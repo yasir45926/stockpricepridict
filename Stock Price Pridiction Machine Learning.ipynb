{
 "cells": [
  {
   "cell_type": "markdown",
   "id": "2534af01",
   "metadata": {},
   "source": [
    "# Stock Price Pridiction Machine Learning Project\n",
    "## Library Used for Pandas -Data Analysis, Sklearn -Machine Learning  \n",
    "### This Project Used Supervised Machine Learning Type & Used  LinearRegression Aalgorithm\n",
    "### Yasir Ahmed Khan 2K20/ITE/156\n",
    "### Janib Hussain 2K20/ITE/61\n",
    "### Muhammad Yasir 2K20/ITE/71\n",
    "### Huzaifa 2K20/ITE/56\n",
    "### Atif 2K20/ITE/27\n"
   ]
  },
  {
   "cell_type": "markdown",
   "id": "31225a24",
   "metadata": {},
   "source": [
    "# Import Libraries"
   ]
  },
  {
   "cell_type": "code",
   "execution_count": 2,
   "id": "47564133",
   "metadata": {},
   "outputs": [],
   "source": [
    "import pandas as pd\n",
    "import matplotlib.pyplot as plt"
   ]
  },
  {
   "cell_type": "markdown",
   "id": "3dd1809c",
   "metadata": {},
   "source": [
    "# Data Load "
   ]
  },
  {
   "cell_type": "code",
   "execution_count": 3,
   "id": "97fc2c0c",
   "metadata": {},
   "outputs": [],
   "source": [
    "data=pd.read_csv('Stock Price.csv')"
   ]
  },
  {
   "cell_type": "code",
   "execution_count": 4,
   "id": "5c2e8cc9",
   "metadata": {},
   "outputs": [
    {
     "data": {
      "text/html": [
       "<div>\n",
       "<style scoped>\n",
       "    .dataframe tbody tr th:only-of-type {\n",
       "        vertical-align: middle;\n",
       "    }\n",
       "\n",
       "    .dataframe tbody tr th {\n",
       "        vertical-align: top;\n",
       "    }\n",
       "\n",
       "    .dataframe thead th {\n",
       "        text-align: right;\n",
       "    }\n",
       "</style>\n",
       "<table border=\"1\" class=\"dataframe\">\n",
       "  <thead>\n",
       "    <tr style=\"text-align: right;\">\n",
       "      <th></th>\n",
       "      <th>Company Name</th>\n",
       "      <th>Date</th>\n",
       "      <th>Open</th>\n",
       "      <th>High</th>\n",
       "      <th>Low</th>\n",
       "      <th>Close</th>\n",
       "      <th>Adj Close</th>\n",
       "      <th>Volume</th>\n",
       "      <th>CloseUSD</th>\n",
       "    </tr>\n",
       "  </thead>\n",
       "  <tbody>\n",
       "    <tr>\n",
       "      <th>0</th>\n",
       "      <td>CMCSA</td>\n",
       "      <td>12/31/1986</td>\n",
       "      <td>2568.300049</td>\n",
       "      <td>2568.300049</td>\n",
       "      <td>2568.300049</td>\n",
       "      <td>2568.300049</td>\n",
       "      <td>2568.300049</td>\n",
       "      <td>0</td>\n",
       "      <td>333.879006</td>\n",
       "    </tr>\n",
       "    <tr>\n",
       "      <th>1</th>\n",
       "      <td>KMI</td>\n",
       "      <td>1/2/1987</td>\n",
       "      <td>2540.100098</td>\n",
       "      <td>2540.100098</td>\n",
       "      <td>2540.100098</td>\n",
       "      <td>2540.100098</td>\n",
       "      <td>2540.100098</td>\n",
       "      <td>0</td>\n",
       "      <td>330.213013</td>\n",
       "    </tr>\n",
       "    <tr>\n",
       "      <th>2</th>\n",
       "      <td>INTC</td>\n",
       "      <td>1/5/1987</td>\n",
       "      <td>2552.399902</td>\n",
       "      <td>2552.399902</td>\n",
       "      <td>2552.399902</td>\n",
       "      <td>2552.399902</td>\n",
       "      <td>2552.399902</td>\n",
       "      <td>0</td>\n",
       "      <td>331.811987</td>\n",
       "    </tr>\n",
       "    <tr>\n",
       "      <th>3</th>\n",
       "      <td>MU</td>\n",
       "      <td>1/6/1987</td>\n",
       "      <td>2583.899902</td>\n",
       "      <td>2583.899902</td>\n",
       "      <td>2583.899902</td>\n",
       "      <td>2583.899902</td>\n",
       "      <td>2583.899902</td>\n",
       "      <td>0</td>\n",
       "      <td>335.906987</td>\n",
       "    </tr>\n",
       "    <tr>\n",
       "      <th>4</th>\n",
       "      <td>GE</td>\n",
       "      <td>1/7/1987</td>\n",
       "      <td>2607.100098</td>\n",
       "      <td>2607.100098</td>\n",
       "      <td>2607.100098</td>\n",
       "      <td>2607.100098</td>\n",
       "      <td>2607.100098</td>\n",
       "      <td>0</td>\n",
       "      <td>338.923013</td>\n",
       "    </tr>\n",
       "    <tr>\n",
       "      <th>...</th>\n",
       "      <td>...</td>\n",
       "      <td>...</td>\n",
       "      <td>...</td>\n",
       "      <td>...</td>\n",
       "      <td>...</td>\n",
       "      <td>...</td>\n",
       "      <td>...</td>\n",
       "      <td>...</td>\n",
       "      <td>...</td>\n",
       "    </tr>\n",
       "    <tr>\n",
       "      <th>4387</th>\n",
       "      <td>YRIV</td>\n",
       "      <td>9/23/2004</td>\n",
       "      <td>13198.790040</td>\n",
       "      <td>13282.860350</td>\n",
       "      <td>13179.129880</td>\n",
       "      <td>13280.429690</td>\n",
       "      <td>13280.429690</td>\n",
       "      <td>371459600</td>\n",
       "      <td>1726.455860</td>\n",
       "    </tr>\n",
       "    <tr>\n",
       "      <th>4388</th>\n",
       "      <td>YTEN</td>\n",
       "      <td>9/24/2004</td>\n",
       "      <td>13236.250000</td>\n",
       "      <td>13253.330080</td>\n",
       "      <td>13035.160160</td>\n",
       "      <td>13066.839840</td>\n",
       "      <td>13066.839840</td>\n",
       "      <td>404185600</td>\n",
       "      <td>1698.689179</td>\n",
       "    </tr>\n",
       "    <tr>\n",
       "      <th>4389</th>\n",
       "      <td>ZKIN</td>\n",
       "      <td>9/27/2004</td>\n",
       "      <td>13053.599610</td>\n",
       "      <td>13067.759770</td>\n",
       "      <td>12908.099610</td>\n",
       "      <td>13021.900390</td>\n",
       "      <td>13021.900390</td>\n",
       "      <td>318864400</td>\n",
       "      <td>1692.847051</td>\n",
       "    </tr>\n",
       "    <tr>\n",
       "      <th>4390</th>\n",
       "      <td>ZOM</td>\n",
       "      <td>9/28/2004</td>\n",
       "      <td>12933.320310</td>\n",
       "      <td>12967.070310</td>\n",
       "      <td>12884.400390</td>\n",
       "      <td>12950.799810</td>\n",
       "      <td>12950.799810</td>\n",
       "      <td>299312200</td>\n",
       "      <td>1683.603975</td>\n",
       "    </tr>\n",
       "    <tr>\n",
       "      <th>4391</th>\n",
       "      <td>ZYME</td>\n",
       "      <td>9/30/2004</td>\n",
       "      <td>13056.799810</td>\n",
       "      <td>13154.910160</td>\n",
       "      <td>13052.379880</td>\n",
       "      <td>13120.030270</td>\n",
       "      <td>13120.030270</td>\n",
       "      <td>360964200</td>\n",
       "      <td>1705.603935</td>\n",
       "    </tr>\n",
       "  </tbody>\n",
       "</table>\n",
       "<p>4392 rows × 9 columns</p>\n",
       "</div>"
      ],
      "text/plain": [
       "     Company Name        Date          Open          High           Low  \\\n",
       "0           CMCSA  12/31/1986   2568.300049   2568.300049   2568.300049   \n",
       "1             KMI    1/2/1987   2540.100098   2540.100098   2540.100098   \n",
       "2            INTC    1/5/1987   2552.399902   2552.399902   2552.399902   \n",
       "3              MU    1/6/1987   2583.899902   2583.899902   2583.899902   \n",
       "4              GE    1/7/1987   2607.100098   2607.100098   2607.100098   \n",
       "...           ...         ...           ...           ...           ...   \n",
       "4387         YRIV   9/23/2004  13198.790040  13282.860350  13179.129880   \n",
       "4388         YTEN   9/24/2004  13236.250000  13253.330080  13035.160160   \n",
       "4389         ZKIN   9/27/2004  13053.599610  13067.759770  12908.099610   \n",
       "4390          ZOM   9/28/2004  12933.320310  12967.070310  12884.400390   \n",
       "4391         ZYME   9/30/2004  13056.799810  13154.910160  13052.379880   \n",
       "\n",
       "             Close     Adj Close     Volume     CloseUSD  \n",
       "0      2568.300049   2568.300049          0   333.879006  \n",
       "1      2540.100098   2540.100098          0   330.213013  \n",
       "2      2552.399902   2552.399902          0   331.811987  \n",
       "3      2583.899902   2583.899902          0   335.906987  \n",
       "4      2607.100098   2607.100098          0   338.923013  \n",
       "...            ...           ...        ...          ...  \n",
       "4387  13280.429690  13280.429690  371459600  1726.455860  \n",
       "4388  13066.839840  13066.839840  404185600  1698.689179  \n",
       "4389  13021.900390  13021.900390  318864400  1692.847051  \n",
       "4390  12950.799810  12950.799810  299312200  1683.603975  \n",
       "4391  13120.030270  13120.030270  360964200  1705.603935  \n",
       "\n",
       "[4392 rows x 9 columns]"
      ]
     },
     "execution_count": 4,
     "metadata": {},
     "output_type": "execute_result"
    }
   ],
   "source": [
    "data"
   ]
  },
  {
   "cell_type": "markdown",
   "id": "0265af78",
   "metadata": {},
   "source": [
    "# Seprate Data for Model  Train & Test"
   ]
  },
  {
   "cell_type": "code",
   "execution_count": 24,
   "id": "fcf47b46",
   "metadata": {},
   "outputs": [],
   "source": [
    "X=data[['Open','High','Low']]\n",
    "Y=data['CloseUSD']\n"
   ]
  },
  {
   "cell_type": "markdown",
   "id": "e8d4c830",
   "metadata": {},
   "source": [
    "# Create and  fit your model"
   ]
  },
  {
   "cell_type": "code",
   "execution_count": 7,
   "id": "a2a3c429",
   "metadata": {},
   "outputs": [],
   "source": [
    "from sklearn.linear_model import LinearRegression"
   ]
  },
  {
   "cell_type": "code",
   "execution_count": 25,
   "id": "a8a9470f",
   "metadata": {},
   "outputs": [],
   "source": [
    " Model =LinearRegression().fit(X,Y)"
   ]
  },
  {
   "cell_type": "code",
   "execution_count": 12,
   "id": "c7c8887f",
   "metadata": {},
   "outputs": [
    {
     "data": {
      "text/plain": [
       "LinearRegression()"
      ]
     },
     "execution_count": 12,
     "metadata": {},
     "output_type": "execute_result"
    }
   ],
   "source": [
    "Model"
   ]
  },
  {
   "cell_type": "code",
   "execution_count": 16,
   "id": "aef98cc5",
   "metadata": {},
   "outputs": [
    {
     "data": {
      "text/plain": [
       "array([-0.07824471,  0.10945547,  0.09876933])"
      ]
     },
     "execution_count": 16,
     "metadata": {},
     "output_type": "execute_result"
    }
   ],
   "source": [
    "Model.coef_"
   ]
  },
  {
   "cell_type": "code",
   "execution_count": 17,
   "id": "15a855f5",
   "metadata": {},
   "outputs": [
    {
     "data": {
      "text/plain": [
       "0.0689627100684902"
      ]
     },
     "execution_count": 17,
     "metadata": {},
     "output_type": "execute_result"
    }
   ],
   "source": [
    "Model.intercept_"
   ]
  },
  {
   "cell_type": "markdown",
   "id": "9aecf901",
   "metadata": {},
   "source": [
    "# Time Check My Model and Pridiction\n"
   ]
  },
  {
   "cell_type": "code",
   "execution_count": 20,
   "id": "fbc6dc86",
   "metadata": {},
   "outputs": [
    {
     "name": "stderr",
     "output_type": "stream",
     "text": [
      "C:\\Users\\Abdul Qadir\\anaconda3\\lib\\site-packages\\sklearn\\base.py:450: UserWarning: X does not have valid feature names, but LinearRegression was fitted with feature names\n",
      "  warnings.warn(\n"
     ]
    },
    {
     "data": {
      "text/plain": [
       "array([333.92031989])"
      ]
     },
     "execution_count": 20,
     "metadata": {},
     "output_type": "execute_result"
    }
   ],
   "source": [
    "Model.predict([[2568.,2568.300049,2568.300049]])"
   ]
  },
  {
   "cell_type": "code",
   "execution_count": 18,
   "id": "02133324",
   "metadata": {},
   "outputs": [
    {
     "data": {
      "text/html": [
       "<div>\n",
       "<style scoped>\n",
       "    .dataframe tbody tr th:only-of-type {\n",
       "        vertical-align: middle;\n",
       "    }\n",
       "\n",
       "    .dataframe tbody tr th {\n",
       "        vertical-align: top;\n",
       "    }\n",
       "\n",
       "    .dataframe thead th {\n",
       "        text-align: right;\n",
       "    }\n",
       "</style>\n",
       "<table border=\"1\" class=\"dataframe\">\n",
       "  <thead>\n",
       "    <tr style=\"text-align: right;\">\n",
       "      <th></th>\n",
       "      <th>Company Name</th>\n",
       "      <th>Date</th>\n",
       "      <th>Open</th>\n",
       "      <th>High</th>\n",
       "      <th>Low</th>\n",
       "      <th>Close</th>\n",
       "      <th>Adj Close</th>\n",
       "      <th>Volume</th>\n",
       "      <th>CloseUSD</th>\n",
       "    </tr>\n",
       "  </thead>\n",
       "  <tbody>\n",
       "    <tr>\n",
       "      <th>0</th>\n",
       "      <td>CMCSA</td>\n",
       "      <td>12/31/1986</td>\n",
       "      <td>2568.300049</td>\n",
       "      <td>2568.300049</td>\n",
       "      <td>2568.300049</td>\n",
       "      <td>2568.300049</td>\n",
       "      <td>2568.300049</td>\n",
       "      <td>0</td>\n",
       "      <td>333.879006</td>\n",
       "    </tr>\n",
       "    <tr>\n",
       "      <th>1</th>\n",
       "      <td>KMI</td>\n",
       "      <td>1/2/1987</td>\n",
       "      <td>2540.100098</td>\n",
       "      <td>2540.100098</td>\n",
       "      <td>2540.100098</td>\n",
       "      <td>2540.100098</td>\n",
       "      <td>2540.100098</td>\n",
       "      <td>0</td>\n",
       "      <td>330.213013</td>\n",
       "    </tr>\n",
       "    <tr>\n",
       "      <th>2</th>\n",
       "      <td>INTC</td>\n",
       "      <td>1/5/1987</td>\n",
       "      <td>2552.399902</td>\n",
       "      <td>2552.399902</td>\n",
       "      <td>2552.399902</td>\n",
       "      <td>2552.399902</td>\n",
       "      <td>2552.399902</td>\n",
       "      <td>0</td>\n",
       "      <td>331.811987</td>\n",
       "    </tr>\n",
       "    <tr>\n",
       "      <th>3</th>\n",
       "      <td>MU</td>\n",
       "      <td>1/6/1987</td>\n",
       "      <td>2583.899902</td>\n",
       "      <td>2583.899902</td>\n",
       "      <td>2583.899902</td>\n",
       "      <td>2583.899902</td>\n",
       "      <td>2583.899902</td>\n",
       "      <td>0</td>\n",
       "      <td>335.906987</td>\n",
       "    </tr>\n",
       "    <tr>\n",
       "      <th>4</th>\n",
       "      <td>GE</td>\n",
       "      <td>1/7/1987</td>\n",
       "      <td>2607.100098</td>\n",
       "      <td>2607.100098</td>\n",
       "      <td>2607.100098</td>\n",
       "      <td>2607.100098</td>\n",
       "      <td>2607.100098</td>\n",
       "      <td>0</td>\n",
       "      <td>338.923013</td>\n",
       "    </tr>\n",
       "  </tbody>\n",
       "</table>\n",
       "</div>"
      ],
      "text/plain": [
       "  Company Name        Date         Open         High          Low  \\\n",
       "0        CMCSA  12/31/1986  2568.300049  2568.300049  2568.300049   \n",
       "1          KMI    1/2/1987  2540.100098  2540.100098  2540.100098   \n",
       "2         INTC    1/5/1987  2552.399902  2552.399902  2552.399902   \n",
       "3           MU    1/6/1987  2583.899902  2583.899902  2583.899902   \n",
       "4           GE    1/7/1987  2607.100098  2607.100098  2607.100098   \n",
       "\n",
       "         Close    Adj Close  Volume    CloseUSD  \n",
       "0  2568.300049  2568.300049       0  333.879006  \n",
       "1  2540.100098  2540.100098       0  330.213013  \n",
       "2  2552.399902  2552.399902       0  331.811987  \n",
       "3  2583.899902  2583.899902       0  335.906987  \n",
       "4  2607.100098  2607.100098       0  338.923013  "
      ]
     },
     "execution_count": 18,
     "metadata": {},
     "output_type": "execute_result"
    }
   ],
   "source": [
    "data.head(5)"
   ]
  },
  {
   "cell_type": "markdown",
   "id": "c3c841d0",
   "metadata": {},
   "source": [
    "# My Model are Perfectly Run Correct Pridiction "
   ]
  },
  {
   "cell_type": "markdown",
   "id": "72bed777",
   "metadata": {},
   "source": [
    "# I try more Pridiction"
   ]
  },
  {
   "cell_type": "code",
   "execution_count": 35,
   "id": "5b5054f1",
   "metadata": {},
   "outputs": [
    {
     "data": {
      "text/html": [
       "<div>\n",
       "<style scoped>\n",
       "    .dataframe tbody tr th:only-of-type {\n",
       "        vertical-align: middle;\n",
       "    }\n",
       "\n",
       "    .dataframe tbody tr th {\n",
       "        vertical-align: top;\n",
       "    }\n",
       "\n",
       "    .dataframe thead th {\n",
       "        text-align: right;\n",
       "    }\n",
       "</style>\n",
       "<table border=\"1\" class=\"dataframe\">\n",
       "  <thead>\n",
       "    <tr style=\"text-align: right;\">\n",
       "      <th></th>\n",
       "      <th>Company Name</th>\n",
       "      <th>Date</th>\n",
       "      <th>Open</th>\n",
       "      <th>High</th>\n",
       "      <th>Low</th>\n",
       "      <th>Close</th>\n",
       "      <th>Adj Close</th>\n",
       "      <th>Volume</th>\n",
       "      <th>CloseUSD</th>\n",
       "    </tr>\n",
       "  </thead>\n",
       "  <tbody>\n",
       "    <tr>\n",
       "      <th>0</th>\n",
       "      <td>CMCSA</td>\n",
       "      <td>12/31/1986</td>\n",
       "      <td>2568.300049</td>\n",
       "      <td>2568.300049</td>\n",
       "      <td>2568.300049</td>\n",
       "      <td>2568.300049</td>\n",
       "      <td>2568.300049</td>\n",
       "      <td>0</td>\n",
       "      <td>333.879006</td>\n",
       "    </tr>\n",
       "    <tr>\n",
       "      <th>1</th>\n",
       "      <td>KMI</td>\n",
       "      <td>1/2/1987</td>\n",
       "      <td>2540.100098</td>\n",
       "      <td>2540.100098</td>\n",
       "      <td>2540.100098</td>\n",
       "      <td>2540.100098</td>\n",
       "      <td>2540.100098</td>\n",
       "      <td>0</td>\n",
       "      <td>330.213013</td>\n",
       "    </tr>\n",
       "    <tr>\n",
       "      <th>2</th>\n",
       "      <td>INTC</td>\n",
       "      <td>1/5/1987</td>\n",
       "      <td>2552.399902</td>\n",
       "      <td>2552.399902</td>\n",
       "      <td>2552.399902</td>\n",
       "      <td>2552.399902</td>\n",
       "      <td>2552.399902</td>\n",
       "      <td>0</td>\n",
       "      <td>331.811987</td>\n",
       "    </tr>\n",
       "    <tr>\n",
       "      <th>3</th>\n",
       "      <td>MU</td>\n",
       "      <td>1/6/1987</td>\n",
       "      <td>2583.899902</td>\n",
       "      <td>2583.899902</td>\n",
       "      <td>2583.899902</td>\n",
       "      <td>2583.899902</td>\n",
       "      <td>2583.899902</td>\n",
       "      <td>0</td>\n",
       "      <td>335.906987</td>\n",
       "    </tr>\n",
       "    <tr>\n",
       "      <th>4</th>\n",
       "      <td>GE</td>\n",
       "      <td>1/7/1987</td>\n",
       "      <td>2607.100098</td>\n",
       "      <td>2607.100098</td>\n",
       "      <td>2607.100098</td>\n",
       "      <td>2607.100098</td>\n",
       "      <td>2607.100098</td>\n",
       "      <td>0</td>\n",
       "      <td>338.923013</td>\n",
       "    </tr>\n",
       "    <tr>\n",
       "      <th>5</th>\n",
       "      <td>BAC</td>\n",
       "      <td>1/8/1987</td>\n",
       "      <td>2603.300049</td>\n",
       "      <td>2603.300049</td>\n",
       "      <td>2603.300049</td>\n",
       "      <td>2603.300049</td>\n",
       "      <td>2603.300049</td>\n",
       "      <td>0</td>\n",
       "      <td>338.429006</td>\n",
       "    </tr>\n",
       "    <tr>\n",
       "      <th>6</th>\n",
       "      <td>AAPL</td>\n",
       "      <td>1/9/1987</td>\n",
       "      <td>2561.699951</td>\n",
       "      <td>2561.699951</td>\n",
       "      <td>2561.699951</td>\n",
       "      <td>2561.699951</td>\n",
       "      <td>2561.699951</td>\n",
       "      <td>0</td>\n",
       "      <td>333.020994</td>\n",
       "    </tr>\n",
       "    <tr>\n",
       "      <th>7</th>\n",
       "      <td>MSFT</td>\n",
       "      <td>1/12/1987</td>\n",
       "      <td>2614.899902</td>\n",
       "      <td>2614.899902</td>\n",
       "      <td>2614.899902</td>\n",
       "      <td>2614.899902</td>\n",
       "      <td>2614.899902</td>\n",
       "      <td>0</td>\n",
       "      <td>339.936987</td>\n",
       "    </tr>\n",
       "    <tr>\n",
       "      <th>8</th>\n",
       "      <td>SIRI</td>\n",
       "      <td>1/13/1987</td>\n",
       "      <td>2590.800049</td>\n",
       "      <td>2590.800049</td>\n",
       "      <td>2590.800049</td>\n",
       "      <td>2590.800049</td>\n",
       "      <td>2590.800049</td>\n",
       "      <td>0</td>\n",
       "      <td>336.804006</td>\n",
       "    </tr>\n",
       "    <tr>\n",
       "      <th>9</th>\n",
       "      <td>HPQ</td>\n",
       "      <td>1/14/1987</td>\n",
       "      <td>2578.199951</td>\n",
       "      <td>2578.199951</td>\n",
       "      <td>2578.199951</td>\n",
       "      <td>2578.199951</td>\n",
       "      <td>2578.199951</td>\n",
       "      <td>0</td>\n",
       "      <td>335.165994</td>\n",
       "    </tr>\n",
       "    <tr>\n",
       "      <th>10</th>\n",
       "      <td>CX</td>\n",
       "      <td>1/15/1987</td>\n",
       "      <td>2559.100098</td>\n",
       "      <td>2559.100098</td>\n",
       "      <td>2559.100098</td>\n",
       "      <td>2559.100098</td>\n",
       "      <td>2559.100098</td>\n",
       "      <td>0</td>\n",
       "      <td>332.683013</td>\n",
       "    </tr>\n",
       "    <tr>\n",
       "      <th>11</th>\n",
       "      <td>CZR</td>\n",
       "      <td>1/16/1987</td>\n",
       "      <td>2542.600098</td>\n",
       "      <td>2542.600098</td>\n",
       "      <td>2542.600098</td>\n",
       "      <td>2542.600098</td>\n",
       "      <td>2542.600098</td>\n",
       "      <td>0</td>\n",
       "      <td>330.538013</td>\n",
       "    </tr>\n",
       "  </tbody>\n",
       "</table>\n",
       "</div>"
      ],
      "text/plain": [
       "   Company Name        Date         Open         High          Low  \\\n",
       "0         CMCSA  12/31/1986  2568.300049  2568.300049  2568.300049   \n",
       "1           KMI    1/2/1987  2540.100098  2540.100098  2540.100098   \n",
       "2          INTC    1/5/1987  2552.399902  2552.399902  2552.399902   \n",
       "3            MU    1/6/1987  2583.899902  2583.899902  2583.899902   \n",
       "4            GE    1/7/1987  2607.100098  2607.100098  2607.100098   \n",
       "5           BAC    1/8/1987  2603.300049  2603.300049  2603.300049   \n",
       "6          AAPL    1/9/1987  2561.699951  2561.699951  2561.699951   \n",
       "7          MSFT   1/12/1987  2614.899902  2614.899902  2614.899902   \n",
       "8          SIRI   1/13/1987  2590.800049  2590.800049  2590.800049   \n",
       "9           HPQ   1/14/1987  2578.199951  2578.199951  2578.199951   \n",
       "10           CX   1/15/1987  2559.100098  2559.100098  2559.100098   \n",
       "11          CZR   1/16/1987  2542.600098  2542.600098  2542.600098   \n",
       "\n",
       "          Close    Adj Close  Volume    CloseUSD  \n",
       "0   2568.300049  2568.300049       0  333.879006  \n",
       "1   2540.100098  2540.100098       0  330.213013  \n",
       "2   2552.399902  2552.399902       0  331.811987  \n",
       "3   2583.899902  2583.899902       0  335.906987  \n",
       "4   2607.100098  2607.100098       0  338.923013  \n",
       "5   2603.300049  2603.300049       0  338.429006  \n",
       "6   2561.699951  2561.699951       0  333.020994  \n",
       "7   2614.899902  2614.899902       0  339.936987  \n",
       "8   2590.800049  2590.800049       0  336.804006  \n",
       "9   2578.199951  2578.199951       0  335.165994  \n",
       "10  2559.100098  2559.100098       0  332.683013  \n",
       "11  2542.600098  2542.600098       0  330.538013  "
      ]
     },
     "execution_count": 35,
     "metadata": {},
     "output_type": "execute_result"
    }
   ],
   "source": [
    "data.head(12)"
   ]
  },
  {
   "cell_type": "code",
   "execution_count": 39,
   "id": "a3d28e54",
   "metadata": {},
   "outputs": [
    {
     "name": "stderr",
     "output_type": "stream",
     "text": [
      "C:\\Users\\Abdul Qadir\\anaconda3\\lib\\site-packages\\sklearn\\base.py:450: UserWarning: X does not have valid feature names, but LinearRegression was fitted with feature names\n",
      "  warnings.warn(\n"
     ]
    },
    {
     "data": {
      "text/plain": [
       "array([339.83692653])"
      ]
     },
     "execution_count": 39,
     "metadata": {},
     "output_type": "execute_result"
    }
   ],
   "source": [
    "Model.predict([[2614,2614.,2614]])"
   ]
  },
  {
   "cell_type": "markdown",
   "id": "15c47f15",
   "metadata": {},
   "source": [
    "## Now My Model is Predict 100% Good so I check my Model Score "
   ]
  },
  {
   "cell_type": "code",
   "execution_count": 43,
   "id": "25d82f14",
   "metadata": {},
   "outputs": [
    {
     "data": {
      "text/plain": [
       "0.9998739026281614"
      ]
     },
     "execution_count": 43,
     "metadata": {},
     "output_type": "execute_result"
    }
   ],
   "source": [
    "Model.score(X,Y)"
   ]
  },
  {
   "cell_type": "markdown",
   "id": "34afd154",
   "metadata": {},
   "source": [
    "# My Model 99% Accuracy"
   ]
  },
  {
   "cell_type": "code",
   "execution_count": null,
   "id": "ad32f08d",
   "metadata": {},
   "outputs": [],
   "source": []
  }
 ],
 "metadata": {
  "kernelspec": {
   "display_name": "Python 3 (ipykernel)",
   "language": "python",
   "name": "python3"
  },
  "language_info": {
   "codemirror_mode": {
    "name": "ipython",
    "version": 3
   },
   "file_extension": ".py",
   "mimetype": "text/x-python",
   "name": "python",
   "nbconvert_exporter": "python",
   "pygments_lexer": "ipython3",
   "version": "3.9.13"
  }
 },
 "nbformat": 4,
 "nbformat_minor": 5
}
